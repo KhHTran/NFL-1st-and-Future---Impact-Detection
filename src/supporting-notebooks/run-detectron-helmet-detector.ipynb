{
 "cells": [
  {
   "cell_type": "code",
   "execution_count": 1,
   "metadata": {
    "execution": {
     "iopub.execute_input": "2020-12-24T08:34:20.212510Z",
     "iopub.status.busy": "2020-12-24T08:34:20.211656Z",
     "iopub.status.idle": "2020-12-24T08:37:02.144978Z",
     "shell.execute_reply": "2020-12-24T08:37:02.143393Z"
    },
    "papermill": {
     "duration": 161.953971,
     "end_time": "2020-12-24T08:37:02.145120",
     "exception": false,
     "start_time": "2020-12-24T08:34:20.191149",
     "status": "completed"
    },
    "tags": []
   },
   "outputs": [
    {
     "name": "stdout",
     "output_type": "stream",
     "text": [
      "Looking in links: ../input/nflimpactdetectron/wheelz/wheelz\r\n",
      "Processing /kaggle/input/nflimpactdetectron/detectron2/detectron2\r\n",
      "Requirement already satisfied: termcolor>=1.1 in /opt/conda/lib/python3.7/site-packages (from detectron2==0.3) (1.1.0)\r\n",
      "Requirement already satisfied: Pillow>=7.1 in /opt/conda/lib/python3.7/site-packages (from detectron2==0.3) (8.0.1)\r\n",
      "Requirement already satisfied: yacs>=0.1.6 in /opt/conda/lib/python3.7/site-packages (from detectron2==0.3) (0.1.8)\r\n",
      "Requirement already satisfied: tabulate in /opt/conda/lib/python3.7/site-packages (from detectron2==0.3) (0.8.7)\r\n",
      "Requirement already satisfied: cloudpickle in /opt/conda/lib/python3.7/site-packages (from detectron2==0.3) (1.6.0)\r\n",
      "Requirement already satisfied: matplotlib in /opt/conda/lib/python3.7/site-packages (from detectron2==0.3) (3.2.1)\r\n",
      "Requirement already satisfied: tqdm>4.29.0 in /opt/conda/lib/python3.7/site-packages (from detectron2==0.3) (4.45.0)\r\n",
      "Requirement already satisfied: tensorboard in /opt/conda/lib/python3.7/site-packages (from detectron2==0.3) (2.4.0)\r\n",
      "Requirement already satisfied: future in /opt/conda/lib/python3.7/site-packages (from detectron2==0.3) (0.18.2)\r\n",
      "Requirement already satisfied: pydot in /opt/conda/lib/python3.7/site-packages (from detectron2==0.3) (1.4.1)\r\n",
      "Processing /kaggle/input/nflimpactdetectron/wheelz/wheelz/fvcore-0.1.2-py3-none-any.whl\r\n",
      "Requirement already satisfied: pyyaml>=5.1 in /opt/conda/lib/python3.7/site-packages (from fvcore>=0.1.2->detectron2==0.3) (5.3.1)\r\n",
      "Requirement already satisfied: Pillow>=7.1 in /opt/conda/lib/python3.7/site-packages (from detectron2==0.3) (8.0.1)\r\n",
      "Requirement already satisfied: numpy in /opt/conda/lib/python3.7/site-packages (from fvcore>=0.1.2->detectron2==0.3) (1.18.5)\r\n",
      "Requirement already satisfied: portalocker in /opt/conda/lib/python3.7/site-packages (from fvcore>=0.1.2->detectron2==0.3) (2.0.0)\r\n",
      "Requirement already satisfied: termcolor>=1.1 in /opt/conda/lib/python3.7/site-packages (from detectron2==0.3) (1.1.0)\r\n",
      "Requirement already satisfied: tabulate in /opt/conda/lib/python3.7/site-packages (from detectron2==0.3) (0.8.7)\r\n",
      "Requirement already satisfied: yacs>=0.1.6 in /opt/conda/lib/python3.7/site-packages (from detectron2==0.3) (0.1.8)\r\n",
      "Requirement already satisfied: tqdm>4.29.0 in /opt/conda/lib/python3.7/site-packages (from detectron2==0.3) (4.45.0)\r\n",
      "Requirement already satisfied: cycler>=0.10 in /opt/conda/lib/python3.7/site-packages (from matplotlib->detectron2==0.3) (0.10.0)\r\n",
      "Requirement already satisfied: kiwisolver>=1.0.1 in /opt/conda/lib/python3.7/site-packages (from matplotlib->detectron2==0.3) (1.2.0)\r\n",
      "Requirement already satisfied: pyparsing!=2.0.4,!=2.1.2,!=2.1.6,>=2.0.1 in /opt/conda/lib/python3.7/site-packages (from matplotlib->detectron2==0.3) (2.4.7)\r\n",
      "Requirement already satisfied: python-dateutil>=2.1 in /opt/conda/lib/python3.7/site-packages (from matplotlib->detectron2==0.3) (2.8.1)\r\n",
      "Requirement already satisfied: numpy in /opt/conda/lib/python3.7/site-packages (from fvcore>=0.1.2->detectron2==0.3) (1.18.5)\r\n",
      "Requirement already satisfied: six in /opt/conda/lib/python3.7/site-packages (from cycler>=0.10->matplotlib->detectron2==0.3) (1.14.0)\r\n",
      "Processing /kaggle/input/nflimpactdetectron/wheelz/wheelz/pycocotools-2.0.2-cp37-cp37m-linux_x86_64.whl\r\n",
      "Requirement already satisfied: matplotlib in /opt/conda/lib/python3.7/site-packages (from detectron2==0.3) (3.2.1)\r\n",
      "Requirement already satisfied: setuptools>=18.0 in /opt/conda/lib/python3.7/site-packages (from pycocotools>=2.0.2->detectron2==0.3) (46.1.3.post20200325)\r\n",
      "Requirement already satisfied: cython>=0.27.3 in /opt/conda/lib/python3.7/site-packages (from pycocotools>=2.0.2->detectron2==0.3) (0.29.21)\r\n",
      "Requirement already satisfied: pyparsing!=2.0.4,!=2.1.2,!=2.1.6,>=2.0.1 in /opt/conda/lib/python3.7/site-packages (from matplotlib->detectron2==0.3) (2.4.7)\r\n",
      "Requirement already satisfied: six in /opt/conda/lib/python3.7/site-packages (from cycler>=0.10->matplotlib->detectron2==0.3) (1.14.0)\r\n",
      "Requirement already satisfied: wheel>=0.26 in /opt/conda/lib/python3.7/site-packages (from tensorboard->detectron2==0.3) (0.34.2)\r\n",
      "Requirement already satisfied: markdown>=2.6.8 in /opt/conda/lib/python3.7/site-packages (from tensorboard->detectron2==0.3) (3.2.1)\r\n",
      "Requirement already satisfied: protobuf>=3.6.0 in /opt/conda/lib/python3.7/site-packages (from tensorboard->detectron2==0.3) (3.14.0)\r\n",
      "Requirement already satisfied: setuptools>=18.0 in /opt/conda/lib/python3.7/site-packages (from pycocotools>=2.0.2->detectron2==0.3) (46.1.3.post20200325)\r\n",
      "Requirement already satisfied: google-auth<2,>=1.6.3 in /opt/conda/lib/python3.7/site-packages (from tensorboard->detectron2==0.3) (1.23.0)\r\n",
      "Requirement already satisfied: absl-py>=0.4 in /opt/conda/lib/python3.7/site-packages (from tensorboard->detectron2==0.3) (0.10.0)\r\n",
      "Requirement already satisfied: six in /opt/conda/lib/python3.7/site-packages (from cycler>=0.10->matplotlib->detectron2==0.3) (1.14.0)\r\n",
      "Requirement already satisfied: numpy in /opt/conda/lib/python3.7/site-packages (from fvcore>=0.1.2->detectron2==0.3) (1.18.5)\r\n",
      "Requirement already satisfied: requests<3,>=2.21.0 in /opt/conda/lib/python3.7/site-packages (from tensorboard->detectron2==0.3) (2.23.0)\r\n",
      "Requirement already satisfied: grpcio>=1.24.3 in /opt/conda/lib/python3.7/site-packages (from tensorboard->detectron2==0.3) (1.34.0)\r\n",
      "Requirement already satisfied: tensorboard-plugin-wit>=1.6.0 in /opt/conda/lib/python3.7/site-packages (from tensorboard->detectron2==0.3) (1.7.0)\r\n",
      "Requirement already satisfied: werkzeug>=0.11.15 in /opt/conda/lib/python3.7/site-packages (from tensorboard->detectron2==0.3) (1.0.1)\r\n",
      "Requirement already satisfied: google-auth-oauthlib<0.5,>=0.4.1 in /opt/conda/lib/python3.7/site-packages (from tensorboard->detectron2==0.3) (0.4.1)\r\n",
      "Requirement already satisfied: six in /opt/conda/lib/python3.7/site-packages (from cycler>=0.10->matplotlib->detectron2==0.3) (1.14.0)\r\n",
      "Requirement already satisfied: six in /opt/conda/lib/python3.7/site-packages (from cycler>=0.10->matplotlib->detectron2==0.3) (1.14.0)\r\n",
      "Requirement already satisfied: cachetools<5.0,>=2.0.0 in /opt/conda/lib/python3.7/site-packages (from google-auth<2,>=1.6.3->tensorboard->detectron2==0.3) (3.1.1)\r\n",
      "Requirement already satisfied: rsa<5,>=3.1.4 in /opt/conda/lib/python3.7/site-packages (from google-auth<2,>=1.6.3->tensorboard->detectron2==0.3) (4.0)\r\n",
      "Requirement already satisfied: pyasn1-modules>=0.2.1 in /opt/conda/lib/python3.7/site-packages (from google-auth<2,>=1.6.3->tensorboard->detectron2==0.3) (0.2.7)\r\n",
      "Requirement already satisfied: setuptools>=18.0 in /opt/conda/lib/python3.7/site-packages (from pycocotools>=2.0.2->detectron2==0.3) (46.1.3.post20200325)\r\n",
      "Requirement already satisfied: requests-oauthlib>=0.7.0 in /opt/conda/lib/python3.7/site-packages (from google-auth-oauthlib<0.5,>=0.4.1->tensorboard->detectron2==0.3) (1.2.0)\r\n",
      "Requirement already satisfied: google-auth<2,>=1.6.3 in /opt/conda/lib/python3.7/site-packages (from tensorboard->detectron2==0.3) (1.23.0)\r\n",
      "Requirement already satisfied: six in /opt/conda/lib/python3.7/site-packages (from cycler>=0.10->matplotlib->detectron2==0.3) (1.14.0)\r\n",
      "Requirement already satisfied: setuptools>=18.0 in /opt/conda/lib/python3.7/site-packages (from pycocotools>=2.0.2->detectron2==0.3) (46.1.3.post20200325)\r\n",
      "Requirement already satisfied: six in /opt/conda/lib/python3.7/site-packages (from cycler>=0.10->matplotlib->detectron2==0.3) (1.14.0)\r\n",
      "Requirement already satisfied: pyasn1<0.5.0,>=0.4.6 in /opt/conda/lib/python3.7/site-packages (from pyasn1-modules>=0.2.1->google-auth<2,>=1.6.3->tensorboard->detectron2==0.3) (0.4.8)\r\n",
      "Requirement already satisfied: urllib3!=1.25.0,!=1.25.1,<1.26,>=1.21.1 in /opt/conda/lib/python3.7/site-packages (from requests<3,>=2.21.0->tensorboard->detectron2==0.3) (1.25.9)\r\n",
      "Requirement already satisfied: chardet<4,>=3.0.2 in /opt/conda/lib/python3.7/site-packages (from requests<3,>=2.21.0->tensorboard->detectron2==0.3) (3.0.4)\r\n",
      "Requirement already satisfied: certifi>=2017.4.17 in /opt/conda/lib/python3.7/site-packages (from requests<3,>=2.21.0->tensorboard->detectron2==0.3) (2020.12.5)\r\n",
      "Requirement already satisfied: idna<3,>=2.5 in /opt/conda/lib/python3.7/site-packages (from requests<3,>=2.21.0->tensorboard->detectron2==0.3) (2.9)\r\n",
      "Requirement already satisfied: oauthlib>=3.0.0 in /opt/conda/lib/python3.7/site-packages (from requests-oauthlib>=0.7.0->google-auth-oauthlib<0.5,>=0.4.1->tensorboard->detectron2==0.3) (3.0.1)\r\n",
      "Requirement already satisfied: requests<3,>=2.21.0 in /opt/conda/lib/python3.7/site-packages (from tensorboard->detectron2==0.3) (2.23.0)\r\n",
      "Requirement already satisfied: pyasn1<0.5.0,>=0.4.6 in /opt/conda/lib/python3.7/site-packages (from pyasn1-modules>=0.2.1->google-auth<2,>=1.6.3->tensorboard->detectron2==0.3) (0.4.8)\r\n",
      "Requirement already satisfied: pyyaml>=5.1 in /opt/conda/lib/python3.7/site-packages (from fvcore>=0.1.2->detectron2==0.3) (5.3.1)\r\n",
      "Building wheels for collected packages: detectron2\r\n",
      "  Building wheel for detectron2 (setup.py) ... \u001b[?25l-\b \b\\\b \b|\b \b/\b \b-\b \b\\\b \b|\b \b/\b \b-\b \b\\\b \b|\b \b/\b \b-\b \b\\\b \b|\b \b/\b \b-\b \bdone\r\n",
      "\u001b[?25h  Created wheel for detectron2: filename=detectron2-0.3-cp37-cp37m-linux_x86_64.whl size=5563546 sha256=5dccf6cadb03101ffdb8a78bc4d17ad2a2e0e56dbb412f12f2a4b0f5217d59f8\r\n",
      "  Stored in directory: /tmp/pip-ephem-wheel-cache-rznuls29/wheels/a8/a2/bd/c673fab154eab56fe2c82c66f310d2a33bc4a1aaefaa8182e2\r\n",
      "Successfully built detectron2\r\n",
      "Installing collected packages: pycocotools, fvcore, detectron2\r\n",
      "Successfully installed detectron2-0.3 fvcore-0.1.2 pycocotools-2.0.2\r\n"
     ]
    }
   ],
   "source": [
    "# !pip install pyyaml==5.1\n",
    "# !pip install detectron2 -f https://dl.fbaipublicfiles.com/detectron2/wheels/cu101/torch1.7/index.html\n",
    "!python3 -m pip install ../input/nflimpactdetectron/detectron2/detectron2 --no-index --find-links ../input/nflimpactdetectron/wheelz/wheelz"
   ]
  },
  {
   "cell_type": "code",
   "execution_count": 2,
   "metadata": {
    "_cell_guid": "5067e2e5-e8c7-41bf-9a71-387582d1edf0",
    "_uuid": "83f84342-4240-4883-92a5-9f64128d8b2a",
    "execution": {
     "iopub.execute_input": "2020-12-24T08:37:02.197346Z",
     "iopub.status.busy": "2020-12-24T08:37:02.196125Z",
     "iopub.status.idle": "2020-12-24T08:37:03.589503Z",
     "shell.execute_reply": "2020-12-24T08:37:03.588110Z"
    },
    "papermill": {
     "duration": 1.421459,
     "end_time": "2020-12-24T08:37:03.589618",
     "exception": false,
     "start_time": "2020-12-24T08:37:02.168159",
     "status": "completed"
    },
    "tags": []
   },
   "outputs": [],
   "source": [
    "import numpy as np # linear algebra\n",
    "import pandas as pd # data processing, CSV file I/O (e.g. pd.read_csv)\n",
    "import torch \n",
    "\n",
    "from sklearn.model_selection import train_test_split\n",
    "from sklearn.utils import shuffle\n",
    "import os\n",
    "import cv2\n",
    "import pickle"
   ]
  },
  {
   "cell_type": "code",
   "execution_count": 3,
   "metadata": {
    "execution": {
     "iopub.execute_input": "2020-12-24T08:37:03.647524Z",
     "iopub.status.busy": "2020-12-24T08:37:03.646793Z",
     "iopub.status.idle": "2020-12-24T08:37:03.782640Z",
     "shell.execute_reply": "2020-12-24T08:37:03.782121Z"
    },
    "papermill": {
     "duration": 0.168696,
     "end_time": "2020-12-24T08:37:03.782739",
     "exception": false,
     "start_time": "2020-12-24T08:37:03.614043",
     "status": "completed"
    },
    "tags": []
   },
   "outputs": [],
   "source": [
    "from torchvision.ops import box_area, box_iou"
   ]
  },
  {
   "cell_type": "code",
   "execution_count": 4,
   "metadata": {
    "execution": {
     "iopub.execute_input": "2020-12-24T08:37:03.833638Z",
     "iopub.status.busy": "2020-12-24T08:37:03.832785Z",
     "iopub.status.idle": "2020-12-24T08:37:04.379434Z",
     "shell.execute_reply": "2020-12-24T08:37:04.378807Z"
    },
    "papermill": {
     "duration": 0.573819,
     "end_time": "2020-12-24T08:37:04.379560",
     "exception": false,
     "start_time": "2020-12-24T08:37:03.805741",
     "status": "completed"
    },
    "tags": []
   },
   "outputs": [
    {
     "name": "stdout",
     "output_type": "stream",
     "text": [
      "1.7.0 True\n"
     ]
    }
   ],
   "source": [
    "import sys\n",
    "sys.path.append('../input/footballhelmetdetector')\n",
    "from model import get_predictor\n",
    "# \\, new_model_cfg\n",
    "from train_helmet_detector import NflImpactTrainer"
   ]
  },
  {
   "cell_type": "code",
   "execution_count": 5,
   "metadata": {
    "_cell_guid": "fcfc2c7a-72e9-4ec5-92d3-578a3029ae92",
    "_uuid": "949b6b0d-421b-4d83-9aab-6460c8064fba",
    "execution": {
     "iopub.execute_input": "2020-12-24T08:37:04.441031Z",
     "iopub.status.busy": "2020-12-24T08:37:04.440151Z",
     "iopub.status.idle": "2020-12-24T08:37:04.443312Z",
     "shell.execute_reply": "2020-12-24T08:37:04.442789Z"
    },
    "papermill": {
     "duration": 0.036264,
     "end_time": "2020-12-24T08:37:04.443424",
     "exception": false,
     "start_time": "2020-12-24T08:37:04.407160",
     "status": "completed"
    },
    "tags": []
   },
   "outputs": [],
   "source": [
    "from detectron2.config import get_cfg\n",
    "from detectron2.data import MetadataCatalog\n",
    "from detectron2.engine import DefaultPredictor,DefaultTrainer\n",
    "from detectron2.model_zoo import model_zoo\n",
    "from detectron2.evaluation import COCOEvaluator, inference_on_dataset\n",
    "from detectron2.data import MetadataCatalog, DatasetCatalog, build_detection_train_loader, build_detection_test_loader, \\\n",
    "    DatasetMapper\n",
    "from detectron2.structures import BoxMode, Instances, Boxes\n",
    "from detectron2.modeling import build_model\n",
    "from detectron2.checkpoint import DetectionCheckpointer\n",
    "from detectron2.structures import Instances\n",
    "\n",
    "from detectron2.modeling.roi_heads.roi_heads import StandardROIHeads\n",
    "from detectron2.modeling import ROI_HEADS_REGISTRY\n",
    "\n",
    "from typing import Dict, List, Optional, Tuple\n"
   ]
  },
  {
   "cell_type": "code",
   "execution_count": 6,
   "metadata": {
    "execution": {
     "iopub.execute_input": "2020-12-24T08:37:04.495000Z",
     "iopub.status.busy": "2020-12-24T08:37:04.494180Z",
     "iopub.status.idle": "2020-12-24T08:37:04.498775Z",
     "shell.execute_reply": "2020-12-24T08:37:04.498212Z"
    },
    "papermill": {
     "duration": 0.032033,
     "end_time": "2020-12-24T08:37:04.498900",
     "exception": false,
     "start_time": "2020-12-24T08:37:04.466867",
     "status": "completed"
    },
    "tags": []
   },
   "outputs": [],
   "source": [
    "from detectron2.utils.visualizer import Visualizer"
   ]
  },
  {
   "cell_type": "code",
   "execution_count": 7,
   "metadata": {
    "execution": {
     "iopub.execute_input": "2020-12-24T08:37:04.550139Z",
     "iopub.status.busy": "2020-12-24T08:37:04.549419Z",
     "iopub.status.idle": "2020-12-24T08:37:04.552417Z",
     "shell.execute_reply": "2020-12-24T08:37:04.551937Z"
    },
    "papermill": {
     "duration": 0.029858,
     "end_time": "2020-12-24T08:37:04.552502",
     "exception": false,
     "start_time": "2020-12-24T08:37:04.522644",
     "status": "completed"
    },
    "tags": []
   },
   "outputs": [],
   "source": [
    "from copy import deepcopy \n",
    "from tqdm import tqdm"
   ]
  },
  {
   "cell_type": "code",
   "execution_count": 8,
   "metadata": {
    "execution": {
     "iopub.execute_input": "2020-12-24T08:37:04.615924Z",
     "iopub.status.busy": "2020-12-24T08:37:04.613326Z",
     "iopub.status.idle": "2020-12-24T08:37:04.618178Z",
     "shell.execute_reply": "2020-12-24T08:37:04.618664Z"
    },
    "papermill": {
     "duration": 0.042575,
     "end_time": "2020-12-24T08:37:04.618775",
     "exception": false,
     "start_time": "2020-12-24T08:37:04.576200",
     "status": "completed"
    },
    "tags": []
   },
   "outputs": [],
   "source": [
    "def convert_video_labels(video_labels: pd.DataFrame):\n",
    "    dataset_dicts = []\n",
    "    all_videos = video_labels['video'].unique()\n",
    "    videos_processed = 0\n",
    "    for video in all_videos:\n",
    "        frames = video_labels.query(\"video == @video\")\n",
    "        min_frame = frames['frame'].min()\n",
    "        max_frame = frames['frame'].max()\n",
    "\n",
    "        for i in range(min_frame, max_frame + 1):\n",
    "            player_frames = frames.query(\"frame == @i\")\n",
    "            vid = video.split('.')[:-1][0]\n",
    "            img_name = video.split('.')[:-1][0] + '_' + str.format(\"{}\", i).zfill(3) + '.png'\n",
    "            img_path = os.path.join(\"../input/nfl-impact-detection-train-frames\", vid, img_name)\n",
    "            if not os.path.exists(img_path):\n",
    "                continue\n",
    "            record = {\"image_id\": img_path, \"file_name\": img_path, \"height\": 720, \"width\": 1280}\n",
    "            objects = []\n",
    "            if not player_frames.empty:\n",
    "                for _, row in player_frames.iterrows():\n",
    "                    category_id = row['impact']\n",
    "#                     print(f\"_ = {_}\")\n",
    "#                     print(f\"row = {row}\")\n",
    "                    obj = {\n",
    "                        \"bbox\": [row['left'],\n",
    "                                 row['top'],\n",
    "                                 row['left'] + row['width'],\n",
    "                                 row['top'] + row['height']],\n",
    "                        \"bbox_mode\": BoxMode.XYXY_ABS,                        \n",
    "                        \"category_id\": 0,\n",
    "                    }\n",
    "                    objects.append(obj)\n",
    "\n",
    "            record[\"annotations\"] = objects\n",
    "            if objects:\n",
    "                dataset_dicts.append(record)\n",
    "\n",
    "        print(\"conversion progress %d/%d\" % (videos_processed, len(all_videos)))\n",
    "        videos_processed += 1\n",
    "    return dataset_dicts"
   ]
  },
  {
   "cell_type": "code",
   "execution_count": 9,
   "metadata": {
    "execution": {
     "iopub.execute_input": "2020-12-24T08:37:04.672758Z",
     "iopub.status.busy": "2020-12-24T08:37:04.671153Z",
     "iopub.status.idle": "2020-12-24T08:37:04.673557Z",
     "shell.execute_reply": "2020-12-24T08:37:04.674039Z"
    },
    "papermill": {
     "duration": 0.031794,
     "end_time": "2020-12-24T08:37:04.674144",
     "exception": false,
     "start_time": "2020-12-24T08:37:04.642350",
     "status": "completed"
    },
    "tags": []
   },
   "outputs": [],
   "source": [
    "# @ROI_HEADS_REGISTRY.register()\n",
    "# class Nfl_crop_ROIHeads(StandardROIHeads):\n",
    "#     def _convert_tl_br(self, w,h,magnitude, x1,y1,x2,y2,):\n",
    "#         assert magnitude >0, 'increase size <0'\n",
    "\n",
    "#         w_box = abs(x2 - x1)*magnitude\n",
    "#         assert w_box >0, 'w_box <0'\n",
    "#         h_box = abs(y2 - y1)*magnitude\n",
    "#         assert h_box >0, 'h_box <0'\n",
    "\n",
    "#         x1 = x1 - w_box if (x1 - w_box) >0 else 0\n",
    "#         y1 = y1 - h_box if (y1 - h_box) >0 else 0\n",
    "\n",
    "#         x2 = x2 + w_box if (x2 + w_box) <w else w\n",
    "#         y2 = y2 + h_box if (y2 + h_box) <h else h\n",
    "\n",
    "# #         return torch.tensor([x1,y1,x2,y2]).to('cuda')\n",
    "#         return torch.tensor([x1,y1,x2,y2])\n",
    "\n",
    "    \n",
    "    \n",
    "#     def transform_proposals(self, proposals: List[Instances], magnitude: int):\n",
    "# #         proposals = deepcopy(input_proposals)\n",
    "# #         assert len(proposals) == 1, 'len of proposal != 1'\n",
    "#         for instance in proposals:\n",
    "#             w, h = instance.image_size\n",
    "#             tensor = instance.get('proposal_boxes')\n",
    "#     #         temp = tensor.apply_(lambda x: convert_tl_br(720,1280,magnitude,*x))\n",
    "#             transform_boxes = []\n",
    "#             for i in tensor:    \n",
    "#                 transform_boxes.append(self._convert_tl_br(w,h,magnitude,*i))\n",
    "#             transform_boxes = torch.stack(transform_boxes)\n",
    "#             instance.set('proposal_boxes', Boxes(transform_boxes))\n",
    "#         return proposals\n",
    "\n",
    "#     def _forward_box(self, features: Dict[str, torch.Tensor], proposals: List[Instances]):\n",
    "#         \"\"\"\n",
    "#         Forward logic of the box prediction branch. If `self.train_on_pred_boxes is True`,\n",
    "#             the function puts predicted boxes in the `proposal_boxes` field of `proposals` argument.\n",
    "\n",
    "#         Args:\n",
    "#             features (dict[str, Tensor]): mapping from feature map names to tensor.\n",
    "#                 Same as in :meth:`ROIHeads.forward`.\n",
    "#             proposals (list[Instances]): the per-image object proposals with\n",
    "#                 their matching ground truth.\n",
    "#                 Each has fields \"proposal_boxes\", and \"objectness_logits\",\n",
    "#                 \"gt_classes\", \"gt_boxes\".\n",
    "\n",
    "#         Returns:\n",
    "#             In training, a dict of losses.\n",
    "#             In inference, a list of `Instances`, the predicted instances.\n",
    "#         \"\"\"\n",
    "#         features = [features[f] for f in self.box_in_features]\n",
    "#         #          \n",
    "#         proposals = self.transform_proposals(proposals, 1)\n",
    "#         box_features = self.box_pooler(features, [x.proposal_boxes for x in proposals])\n",
    "#         box_features = self.box_head(box_features)\n",
    "#         predictions = self.box_predictor(box_features)\n",
    "#         del box_features\n",
    "\n",
    "#         if self.training:\n",
    "#             losses = self.box_predictor.losses(predictions, proposals)\n",
    "#             # proposals is modified in-place below, so losses must be computed first.\n",
    "#             if self.train_on_pred_boxes:\n",
    "#                 with torch.no_grad():\n",
    "#                     pred_boxes = self.box_predictor.predict_boxes_for_gt_classes(\n",
    "#                         predictions, proposals\n",
    "#                     )\n",
    "#                     for proposals_per_image, pred_boxes_per_image in zip(proposals, pred_boxes):\n",
    "#                         proposals_per_image.proposal_boxes = Boxes(pred_boxes_per_image)\n",
    "#             return losses\n",
    "#         else:\n",
    "#             pred_instances, _ = self.box_predictor.inference(predictions, proposals)\n",
    "#             return pred_instances"
   ]
  },
  {
   "cell_type": "code",
   "execution_count": 10,
   "metadata": {
    "execution": {
     "iopub.execute_input": "2020-12-24T08:37:04.726952Z",
     "iopub.status.busy": "2020-12-24T08:37:04.726246Z",
     "iopub.status.idle": "2020-12-24T08:37:05.395191Z",
     "shell.execute_reply": "2020-12-24T08:37:05.394142Z"
    },
    "papermill": {
     "duration": 0.697479,
     "end_time": "2020-12-24T08:37:05.395339",
     "exception": false,
     "start_time": "2020-12-24T08:37:04.697860",
     "status": "completed"
    },
    "tags": []
   },
   "outputs": [],
   "source": [
    "!mkdir output"
   ]
  },
  {
   "cell_type": "code",
   "execution_count": 11,
   "metadata": {
    "_cell_guid": "e1a9758e-ed28-4ae1-a973-a6b70957f7f8",
    "_uuid": "2e5cbb93-1468-4b1e-ac00-62ff657ffc20",
    "execution": {
     "iopub.execute_input": "2020-12-24T08:37:05.459026Z",
     "iopub.status.busy": "2020-12-24T08:37:05.458230Z",
     "iopub.status.idle": "2020-12-24T08:37:05.461410Z",
     "shell.execute_reply": "2020-12-24T08:37:05.460900Z"
    },
    "papermill": {
     "duration": 0.037354,
     "end_time": "2020-12-24T08:37:05.461505",
     "exception": false,
     "start_time": "2020-12-24T08:37:05.424151",
     "status": "completed"
    },
    "tags": []
   },
   "outputs": [],
   "source": [
    "# def new_model_cfg(custom_ROIHeads=None):\n",
    "#     cfg = get_cfg()\n",
    "#     model = \"COCO-InstanceSegmentation/mask_rcnn_R_101_FPN_3x.yaml\"\n",
    "#     cfg.merge_from_file(model_zoo.get_config_file(model))\n",
    "# #     cfg.MODEL.WEIGHTS = model_zoo.get_checkpoint_url(model)\n",
    "    \n",
    "#     cfg.MODEL.MASK_ON = False\n",
    "#     cfg.INPUT.RANDOM_FLIP = \"none\"\n",
    "#     cfg.OUTPUT_DIR = \"output\"\n",
    "\n",
    "#     cfg.DATALOADER.NUM_WORKERS = 2\n",
    "#     cfg.SOLVER.IMS_PER_BATCH = 4\n",
    "#     cfg.SOLVER.CHECKPOINT_PERIOD = 2000\n",
    "#     cfg.SOLVER.STEPS = (21000, 50000)\n",
    "#     cfg.SOLVER.MAX_ITER = 10000\n",
    "#     cfg.SOLVER.BASE_LR = 0.001\n",
    "#     cfg.TEST.EVAL_PERIOD = 2000\n",
    "#     cfg.MODEL.ROI_HEADS.NUM_CLASSES = 1\n",
    "#     cfg.DATALOADER.FILTER_EMPTY_ANNOTATIONS = True\n",
    "#     if(custom_ROIHeads):\n",
    "# #         cfg.MODEL.ROI_HEADS.NAME = 'Nfl_crop_ROIHeads'\n",
    "#         cfg.MODEL.ROI_HEADS.NAME = custom_ROIHeads\n",
    "    \n",
    "#     cfg.MODEL.WEIGHTS = \"../input/nflimpactdetectron/helmet_detector_model_0093999.pth\"\n",
    "#     return cfg\n",
    "\n",
    "def new_model_cfg():\n",
    "    cfg = get_cfg()\n",
    "    model = \"COCO-InstanceSegmentation/mask_rcnn_R_101_FPN_3x.yaml\"\n",
    "    cfg.merge_from_file(model_zoo.get_config_file(model))\n",
    "#     cfg.MODEL.WEIGHTS = model_zoo.get_checkpoint_url(model)\n",
    "    cfg.MODEL.WEIGHTS = \"../input/nflimpactdetectron/helmet_detector_model_0093999.pth\"\n",
    "    cfg.MODEL.MASK_ON = False\n",
    "    cfg.INPUT.RANDOM_FLIP = \"none\"\n",
    "    cfg.OUTPUT_DIR = \"output\"\n",
    "\n",
    "    cfg.DATALOADER.NUM_WORKERS = 2\n",
    "    cfg.SOLVER.IMS_PER_BATCH = 4\n",
    "    cfg.SOLVER.CHECKPOINT_PERIOD = 2000\n",
    "    cfg.SOLVER.STEPS = (21000, 50000)\n",
    "    cfg.SOLVER.MAX_ITER = 1000\n",
    "    cfg.SOLVER.BASE_LR = 0.001\n",
    "    cfg.TEST.EVAL_PERIOD = 2000\n",
    "    cfg.MODEL.ROI_HEADS.NUM_CLASSES = 1\n",
    "    cfg.DATALOADER.FILTER_EMPTY_ANNOTATIONS = True\n",
    "        \n",
    "    return cfg"
   ]
  },
  {
   "cell_type": "markdown",
   "metadata": {
    "papermill": {
     "duration": 0.023791,
     "end_time": "2020-12-24T08:37:05.509269",
     "exception": false,
     "start_time": "2020-12-24T08:37:05.485478",
     "status": "completed"
    },
    "tags": []
   },
   "source": [
    "# Prepare train and test"
   ]
  },
  {
   "cell_type": "code",
   "execution_count": 12,
   "metadata": {
    "execution": {
     "iopub.execute_input": "2020-12-24T08:37:05.565984Z",
     "iopub.status.busy": "2020-12-24T08:37:05.565193Z",
     "iopub.status.idle": "2020-12-24T08:37:05.568306Z",
     "shell.execute_reply": "2020-12-24T08:37:05.567778Z"
    },
    "papermill": {
     "duration": 0.035227,
     "end_time": "2020-12-24T08:37:05.568417",
     "exception": false,
     "start_time": "2020-12-24T08:37:05.533190",
     "status": "completed"
    },
    "tags": []
   },
   "outputs": [],
   "source": [
    "# path = '../input/nfl-csv/Full_4frame_impact.csv'\n",
    "\n",
    "# video_labels = pd.read_csv(path, index_col=0)\n",
    "# video_labels = video_labels[video_labels['impact']>0]\n",
    "\n",
    "# train_gameKey, test_gameKey = train_test_split(video_labels['gameKey'].unique(), test_size= 0.2)\n",
    "\n",
    "# def check_split(x):\n",
    "#     if x['gameKey'] in test_gameKey:\n",
    "#         return 'Test' \n",
    "#     else: return 'Train'\n",
    "\n",
    "# video_labels['split'] = video_labels.apply(lambda x: check_sp lit(x), axis=1)\n",
    "\n",
    "# train_df = video_labels[(video_labels['split'] == 'Train') & (video_labels['impact'] == 2)]\n",
    "# test_df = video_labels[(video_labels['split'] == 'Test') & (video_labels['impact'] == 2)]\n",
    "# len(train_df.groupby('image_name'))\n",
    "# len(test_df.groupby('image_name'))\n",
    "# train = convert_video_labels(train_df)\n",
    "# test = convert_video_labels(test_df)\n",
    "# with open('e2e_impact2.pickle', 'wb') as f:\n",
    "#     pickle.dump((train, test), f, pickle.HIGHEST_PROTOCOL)"
   ]
  },
  {
   "cell_type": "code",
   "execution_count": 13,
   "metadata": {
    "_cell_guid": "f59ea6a9-2dcc-4aa0-8177-5841b2163607",
    "_uuid": "b5ceb9e5-f8d5-426c-9cf0-3ce9524658fc",
    "execution": {
     "iopub.execute_input": "2020-12-24T08:37:05.626133Z",
     "iopub.status.busy": "2020-12-24T08:37:05.625473Z",
     "iopub.status.idle": "2020-12-24T08:37:06.057676Z",
     "shell.execute_reply": "2020-12-24T08:37:06.056409Z"
    },
    "papermill": {
     "duration": 0.463825,
     "end_time": "2020-12-24T08:37:06.057798",
     "exception": false,
     "start_time": "2020-12-24T08:37:05.593973",
     "status": "completed"
    },
    "tags": []
   },
   "outputs": [],
   "source": [
    "# im = cv2.imread('../input/nfl-impact-detection-train-frames/57583_000082_Endzone/57583_000082_Endzone_001.png')\n",
    "# dataset_dicts = convert_video_labels(video_labels)\n",
    "# dataset_dicts = pd.read_pickle('../input/nfl-csv/dataset_dicts.pickle')\n",
    "# dataset_dicts = pd.read_pickle('../input/nfl-csv/detectron2_4frame_dataset.pickle')\n",
    "\n",
    "# train, test = train_test_split(dataset_dicts, test_size=0.05, shuffle=False)\n",
    "# train = convert_video_labels(df[df['split']=='Train'])\n",
    "# test = convert_video_labels(df[df['split']=='Test'])\n",
    "train, test = pd.read_pickle('../input/nfl-csv/e2e_impact2.pickle')\n",
    "\n",
    "DatasetCatalog.register(\"nflimpact_train\", lambda: train)\n",
    "DatasetCatalog.register(\"nflimpact_test\", lambda: test)\n",
    "\n",
    "classes = [\"impact\"]\n",
    "# classes = [\"helmet\"]\n",
    "# classes = [\"helmet\", \"semi_impact\", \"impact\"]\n",
    "MetadataCatalog.get(\"nflimpact_train\").set(thing_classes=classes)\n",
    "MetadataCatalog.get(\"nflimpact_test\").set(thing_classes=classes)\n",
    "\n",
    "cfg = new_model_cfg()\n",
    "\n",
    "# assert cfg.MODEL.ROI_HEADS.NAME == 'NflROIHeads', 'incorrect ROI_HEADS.NAME'\n",
    "\n",
    "cfg.DATASETS.TRAIN = (\"nflimpact_train\",)\n",
    "cfg.DATASETS.TEST = (\"nflimpact_test\",)\n"
   ]
  },
  {
   "cell_type": "code",
   "execution_count": 14,
   "metadata": {
    "execution": {
     "iopub.execute_input": "2020-12-24T08:37:06.119805Z",
     "iopub.status.busy": "2020-12-24T08:37:06.119119Z",
     "iopub.status.idle": "2020-12-24T11:26:17.967823Z",
     "shell.execute_reply": "2020-12-24T11:26:17.967211Z"
    },
    "papermill": {
     "duration": 10151.885145,
     "end_time": "2020-12-24T11:26:17.968915",
     "exception": false,
     "start_time": "2020-12-24T08:37:06.083770",
     "status": "completed"
    },
    "tags": []
   },
   "outputs": [
    {
     "name": "stdout",
     "output_type": "stream",
     "text": [
      "../input/nflimpactdetectron/helmet_detector_model_0093999.pth\n"
     ]
    },
    {
     "name": "stderr",
     "output_type": "stream",
     "text": [
      "/opt/conda/lib/python3.7/site-packages/detectron2/modeling/roi_heads/fast_rcnn.py:217: UserWarning: This overload of nonzero is deprecated:\n",
      "\tnonzero()\n",
      "Consider using one of the following signatures instead:\n",
      "\tnonzero(*, bool as_tuple) (Triggered internally at  /opt/conda/conda-bld/pytorch_1603729138878/work/torch/csrc/utils/python_arg_parser.cpp:882.)\n",
      "  num_fg = fg_inds.nonzero().numel()\n"
     ]
    },
    {
     "name": "stdout",
     "output_type": "stream",
     "text": [
      "Loading and preparing results...\n",
      "DONE (t=0.06s)\n",
      "creating index...\n",
      "index created!\n",
      "Running per image evaluation...\n",
      "Evaluate annotation type *bbox*\n",
      "DONE (t=3.65s).\n",
      "Accumulating evaluation results...\n",
      "DONE (t=0.53s).\n",
      " Average Precision  (AP) @[ IoU=0.50:0.95 | area=   all | maxDets=100 ] = 0.189\n",
      " Average Precision  (AP) @[ IoU=0.50      | area=   all | maxDets=100 ] = 0.357\n",
      " Average Precision  (AP) @[ IoU=0.75      | area=   all | maxDets=100 ] = 0.186\n",
      " Average Precision  (AP) @[ IoU=0.50:0.95 | area= small | maxDets=100 ] = 0.189\n",
      " Average Precision  (AP) @[ IoU=0.50:0.95 | area=medium | maxDets=100 ] = 0.177\n",
      " Average Precision  (AP) @[ IoU=0.50:0.95 | area= large | maxDets=100 ] = -1.000\n",
      " Average Recall     (AR) @[ IoU=0.50:0.95 | area=   all | maxDets=  1 ] = 0.142\n",
      " Average Recall     (AR) @[ IoU=0.50:0.95 | area=   all | maxDets= 10 ] = 0.484\n",
      " Average Recall     (AR) @[ IoU=0.50:0.95 | area=   all | maxDets=100 ] = 0.495\n",
      " Average Recall     (AR) @[ IoU=0.50:0.95 | area= small | maxDets=100 ] = 0.493\n",
      " Average Recall     (AR) @[ IoU=0.50:0.95 | area=medium | maxDets=100 ] = 0.600\n",
      " Average Recall     (AR) @[ IoU=0.50:0.95 | area= large | maxDets=100 ] = -1.000\n",
      "Loading and preparing results...\n",
      "DONE (t=0.04s)\n",
      "creating index...\n",
      "index created!\n",
      "Running per image evaluation...\n",
      "Evaluate annotation type *bbox*\n",
      "DONE (t=2.48s).\n",
      "Accumulating evaluation results...\n",
      "DONE (t=0.39s).\n",
      " Average Precision  (AP) @[ IoU=0.50:0.95 | area=   all | maxDets=100 ] = 0.178\n",
      " Average Precision  (AP) @[ IoU=0.50      | area=   all | maxDets=100 ] = 0.324\n",
      " Average Precision  (AP) @[ IoU=0.75      | area=   all | maxDets=100 ] = 0.184\n",
      " Average Precision  (AP) @[ IoU=0.50:0.95 | area= small | maxDets=100 ] = 0.179\n",
      " Average Precision  (AP) @[ IoU=0.50:0.95 | area=medium | maxDets=100 ] = 0.105\n",
      " Average Precision  (AP) @[ IoU=0.50:0.95 | area= large | maxDets=100 ] = -1.000\n",
      " Average Recall     (AR) @[ IoU=0.50:0.95 | area=   all | maxDets=  1 ] = 0.143\n",
      " Average Recall     (AR) @[ IoU=0.50:0.95 | area=   all | maxDets= 10 ] = 0.403\n",
      " Average Recall     (AR) @[ IoU=0.50:0.95 | area=   all | maxDets=100 ] = 0.405\n",
      " Average Recall     (AR) @[ IoU=0.50:0.95 | area= small | maxDets=100 ] = 0.405\n",
      " Average Recall     (AR) @[ IoU=0.50:0.95 | area=medium | maxDets=100 ] = 0.416\n",
      " Average Recall     (AR) @[ IoU=0.50:0.95 | area= large | maxDets=100 ] = -1.000\n",
      "Loading and preparing results...\n",
      "DONE (t=0.22s)\n",
      "creating index...\n",
      "index created!\n",
      "Running per image evaluation...\n",
      "Evaluate annotation type *bbox*\n",
      "DONE (t=2.71s).\n",
      "Accumulating evaluation results...\n",
      "DONE (t=0.43s).\n",
      " Average Precision  (AP) @[ IoU=0.50:0.95 | area=   all | maxDets=100 ] = 0.172\n",
      " Average Precision  (AP) @[ IoU=0.50      | area=   all | maxDets=100 ] = 0.317\n",
      " Average Precision  (AP) @[ IoU=0.75      | area=   all | maxDets=100 ] = 0.177\n",
      " Average Precision  (AP) @[ IoU=0.50:0.95 | area= small | maxDets=100 ] = 0.173\n",
      " Average Precision  (AP) @[ IoU=0.50:0.95 | area=medium | maxDets=100 ] = 0.130\n",
      " Average Precision  (AP) @[ IoU=0.50:0.95 | area= large | maxDets=100 ] = -1.000\n",
      " Average Recall     (AR) @[ IoU=0.50:0.95 | area=   all | maxDets=  1 ] = 0.143\n",
      " Average Recall     (AR) @[ IoU=0.50:0.95 | area=   all | maxDets= 10 ] = 0.408\n",
      " Average Recall     (AR) @[ IoU=0.50:0.95 | area=   all | maxDets=100 ] = 0.413\n",
      " Average Recall     (AR) @[ IoU=0.50:0.95 | area= small | maxDets=100 ] = 0.412\n",
      " Average Recall     (AR) @[ IoU=0.50:0.95 | area=medium | maxDets=100 ] = 0.452\n",
      " Average Recall     (AR) @[ IoU=0.50:0.95 | area= large | maxDets=100 ] = -1.000\n",
      "Loading and preparing results...\n",
      "DONE (t=0.03s)\n",
      "creating index...\n",
      "index created!\n",
      "Running per image evaluation...\n",
      "Evaluate annotation type *bbox*\n",
      "DONE (t=3.35s).\n",
      "Accumulating evaluation results...\n",
      "DONE (t=0.37s).\n",
      " Average Precision  (AP) @[ IoU=0.50:0.95 | area=   all | maxDets=100 ] = 0.158\n",
      " Average Precision  (AP) @[ IoU=0.50      | area=   all | maxDets=100 ] = 0.300\n",
      " Average Precision  (AP) @[ IoU=0.75      | area=   all | maxDets=100 ] = 0.157\n",
      " Average Precision  (AP) @[ IoU=0.50:0.95 | area= small | maxDets=100 ] = 0.160\n",
      " Average Precision  (AP) @[ IoU=0.50:0.95 | area=medium | maxDets=100 ] = 0.100\n",
      " Average Precision  (AP) @[ IoU=0.50:0.95 | area= large | maxDets=100 ] = -1.000\n",
      " Average Recall     (AR) @[ IoU=0.50:0.95 | area=   all | maxDets=  1 ] = 0.137\n",
      " Average Recall     (AR) @[ IoU=0.50:0.95 | area=   all | maxDets= 10 ] = 0.343\n",
      " Average Recall     (AR) @[ IoU=0.50:0.95 | area=   all | maxDets=100 ] = 0.349\n",
      " Average Recall     (AR) @[ IoU=0.50:0.95 | area= small | maxDets=100 ] = 0.350\n",
      " Average Recall     (AR) @[ IoU=0.50:0.95 | area=medium | maxDets=100 ] = 0.261\n",
      " Average Recall     (AR) @[ IoU=0.50:0.95 | area= large | maxDets=100 ] = -1.000\n",
      "Loading and preparing results...\n",
      "DONE (t=0.02s)\n",
      "creating index...\n",
      "index created!\n",
      "Running per image evaluation...\n",
      "Evaluate annotation type *bbox*\n",
      "DONE (t=1.88s).\n",
      "Accumulating evaluation results...\n",
      "DONE (t=0.52s).\n",
      " Average Precision  (AP) @[ IoU=0.50:0.95 | area=   all | maxDets=100 ] = 0.156\n",
      " Average Precision  (AP) @[ IoU=0.50      | area=   all | maxDets=100 ] = 0.283\n",
      " Average Precision  (AP) @[ IoU=0.75      | area=   all | maxDets=100 ] = 0.157\n",
      " Average Precision  (AP) @[ IoU=0.50:0.95 | area= small | maxDets=100 ] = 0.158\n",
      " Average Precision  (AP) @[ IoU=0.50:0.95 | area=medium | maxDets=100 ] = 0.046\n",
      " Average Precision  (AP) @[ IoU=0.50:0.95 | area= large | maxDets=100 ] = -1.000\n",
      " Average Recall     (AR) @[ IoU=0.50:0.95 | area=   all | maxDets=  1 ] = 0.126\n",
      " Average Recall     (AR) @[ IoU=0.50:0.95 | area=   all | maxDets= 10 ] = 0.326\n",
      " Average Recall     (AR) @[ IoU=0.50:0.95 | area=   all | maxDets=100 ] = 0.327\n",
      " Average Recall     (AR) @[ IoU=0.50:0.95 | area= small | maxDets=100 ] = 0.329\n",
      " Average Recall     (AR) @[ IoU=0.50:0.95 | area=medium | maxDets=100 ] = 0.188\n",
      " Average Recall     (AR) @[ IoU=0.50:0.95 | area= large | maxDets=100 ] = -1.000\n",
      "Loading and preparing results...\n",
      "DONE (t=0.02s)\n",
      "creating index...\n",
      "index created!\n",
      "Running per image evaluation...\n",
      "Evaluate annotation type *bbox*\n",
      "DONE (t=1.85s).\n",
      "Accumulating evaluation results...\n",
      "DONE (t=0.30s).\n",
      " Average Precision  (AP) @[ IoU=0.50:0.95 | area=   all | maxDets=100 ] = 0.156\n",
      " Average Precision  (AP) @[ IoU=0.50      | area=   all | maxDets=100 ] = 0.283\n",
      " Average Precision  (AP) @[ IoU=0.75      | area=   all | maxDets=100 ] = 0.157\n",
      " Average Precision  (AP) @[ IoU=0.50:0.95 | area= small | maxDets=100 ] = 0.158\n",
      " Average Precision  (AP) @[ IoU=0.50:0.95 | area=medium | maxDets=100 ] = 0.046\n",
      " Average Precision  (AP) @[ IoU=0.50:0.95 | area= large | maxDets=100 ] = -1.000\n",
      " Average Recall     (AR) @[ IoU=0.50:0.95 | area=   all | maxDets=  1 ] = 0.126\n",
      " Average Recall     (AR) @[ IoU=0.50:0.95 | area=   all | maxDets= 10 ] = 0.326\n",
      " Average Recall     (AR) @[ IoU=0.50:0.95 | area=   all | maxDets=100 ] = 0.327\n",
      " Average Recall     (AR) @[ IoU=0.50:0.95 | area= small | maxDets=100 ] = 0.329\n",
      " Average Recall     (AR) @[ IoU=0.50:0.95 | area=medium | maxDets=100 ] = 0.188\n",
      " Average Recall     (AR) @[ IoU=0.50:0.95 | area= large | maxDets=100 ] = -1.000\n"
     ]
    }
   ],
   "source": [
    "cfg.SOLVER.MAX_ITER = 10000\n",
    "print(cfg.MODEL.WEIGHTS)\n",
    "trainer = NflImpactTrainer(cfg)\n",
    "trainer.resume_or_load(resume=True)\n",
    "trainer.train()"
   ]
  },
  {
   "cell_type": "code",
   "execution_count": 15,
   "metadata": {
    "execution": {
     "iopub.execute_input": "2020-12-24T11:26:18.051748Z",
     "iopub.status.busy": "2020-12-24T11:26:18.051104Z",
     "iopub.status.idle": "2020-12-24T11:26:18.053880Z",
     "shell.execute_reply": "2020-12-24T11:26:18.054325Z"
    },
    "papermill": {
     "duration": 0.052267,
     "end_time": "2020-12-24T11:26:18.054445",
     "exception": false,
     "start_time": "2020-12-24T11:26:18.002178",
     "status": "completed"
    },
    "tags": []
   },
   "outputs": [],
   "source": [
    "# im = cv2.imread('../input/nfl-impact-detection-train-frames/57583_000082_Endzone/57583_000082_Endzone_001.png')\n",
    "# height, width = im.shape[:2]\n",
    "# image = torch.as_tensor(im.astype(\"float32\").transpose(2, 0, 1))\n",
    "# inputs = [{\"image\": image, \"height\": height, \"width\": width }]\n",
    "# # 'image_sizes':(480,640)}\n",
    "# cfg.MODEL.DEVICE ='cpu'\n",
    "# model = build_model(cfg)\n",
    "\n",
    "# # trainer = NflImpactTrainer(cfg)\n",
    "# DetectionCheckpointer(model).load('../input/nflimpactdetectron/helmet_detector_model_0093999.pth')\n",
    "\n",
    "\n",
    "# model.eval()#make sure its in eval mode\n",
    "# #run model\n",
    "# with torch.no_grad():\n",
    "#     images = model.preprocess_image(inputs) \n",
    "#     features = model.backbone(images.tensor)\n",
    "#     proposals, _ = model.proposal_generator(images, features)\n",
    "# #     outter_proposals = transform(proposals)\n",
    "#     instances, _ = model.roi_heads(images, features, proposals)\n"
   ]
  }
 ],
 "metadata": {
  "kernelspec": {
   "display_name": "Python 3",
   "language": "python",
   "name": "python3"
  },
  "language_info": {
   "codemirror_mode": {
    "name": "ipython",
    "version": 3
   },
   "file_extension": ".py",
   "mimetype": "text/x-python",
   "name": "python",
   "nbconvert_exporter": "python",
   "pygments_lexer": "ipython3",
   "version": "3.7.6"
  },
  "papermill": {
   "duration": 10323.255777,
   "end_time": "2020-12-24T11:26:19.362775",
   "environment_variables": {},
   "exception": null,
   "input_path": "__notebook__.ipynb",
   "output_path": "__notebook__.ipynb",
   "parameters": {},
   "start_time": "2020-12-24T08:34:16.106998",
   "version": "2.1.0"
  }
 },
 "nbformat": 4,
 "nbformat_minor": 4
}
